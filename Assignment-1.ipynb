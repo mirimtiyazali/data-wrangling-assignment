{
 "cells": [
  {
   "cell_type": "code",
   "execution_count": 1,
   "id": "759c3b45",
   "metadata": {},
   "outputs": [],
   "source": [
    "import numpy as np"
   ]
  },
  {
   "cell_type": "code",
   "execution_count": null,
   "id": "4d3bdd01",
   "metadata": {},
   "outputs": [],
   "source": [
    "#Use numpy to generate array of 25 random numbers sampled from a standard normal distribution"
   ]
  },
  {
   "cell_type": "code",
   "execution_count": 3,
   "id": "1126b8d2",
   "metadata": {},
   "outputs": [
    {
     "data": {
      "text/plain": [
       "array([ 1.01743009,  0.50642673,  0.74005766, -0.00576254, -1.45019701,\n",
       "        0.23401951,  1.09390743,  0.6146521 , -1.41045775,  0.14435603,\n",
       "       -1.94038123, -0.21290823,  0.94046258,  0.35726631, -1.86097385,\n",
       "       -1.8796086 ,  0.07401531, -0.32734958, -1.45887583, -0.20580528,\n",
       "        0.39750544,  0.56610031, -1.10650276, -0.0396626 ,  0.83298731])"
      ]
     },
     "execution_count": 3,
     "metadata": {},
     "output_type": "execute_result"
    }
   ],
   "source": [
    "a=np.random.randn(25)\n",
    "a"
   ]
  },
  {
   "cell_type": "code",
   "execution_count": null,
   "id": "25d2338e",
   "metadata": {},
   "outputs": [],
   "source": [
    "#Create a random vector of size 30 and find the mean value."
   ]
  },
  {
   "cell_type": "code",
   "execution_count": 6,
   "id": "faecd27d",
   "metadata": {},
   "outputs": [
    {
     "data": {
      "text/plain": [
       "45.03333333333333"
      ]
     },
     "execution_count": 6,
     "metadata": {},
     "output_type": "execute_result"
    }
   ],
   "source": [
    "a=np.random.randint(low=0,high=100,size=30)\n",
    "b=np.mean(a)\n",
    "b"
   ]
  },
  {
   "cell_type": "code",
   "execution_count": null,
   "id": "4c1121bc",
   "metadata": {},
   "outputs": [],
   "source": [
    "#Insert 1 to 100 numbers in a numpy array and reshape it to 10*10 matrix."
   ]
  },
  {
   "cell_type": "code",
   "execution_count": 10,
   "id": "c13f7788",
   "metadata": {},
   "outputs": [
    {
     "data": {
      "text/plain": [
       "array([[  1,   2,   3,   4,   5,   6,   7,   8,   9,  10],\n",
       "       [ 11,  12,  13,  14,  15,  16,  17,  18,  19,  20],\n",
       "       [ 21,  22,  23,  24,  25,  26,  27,  28,  29,  30],\n",
       "       [ 31,  32,  33,  34,  35,  36,  37,  38,  39,  40],\n",
       "       [ 41,  42,  43,  44,  45,  46,  47,  48,  49,  50],\n",
       "       [ 51,  52,  53,  54,  55,  56,  57,  58,  59,  60],\n",
       "       [ 61,  62,  63,  64,  65,  66,  67,  68,  69,  70],\n",
       "       [ 71,  72,  73,  74,  75,  76,  77,  78,  79,  80],\n",
       "       [ 81,  82,  83,  84,  85,  86,  87,  88,  89,  90],\n",
       "       [ 91,  92,  93,  94,  95,  96,  97,  98,  99, 100]])"
      ]
     },
     "execution_count": 10,
     "metadata": {},
     "output_type": "execute_result"
    }
   ],
   "source": [
    "np.arange(1,101).reshape(10,10)"
   ]
  },
  {
   "cell_type": "code",
   "execution_count": null,
   "id": "b8102efb",
   "metadata": {},
   "outputs": [],
   "source": [
    "#Create a 10x10 array with random values and find the minimum and maximum values"
   ]
  },
  {
   "cell_type": "code",
   "execution_count": 23,
   "id": "31346b08",
   "metadata": {},
   "outputs": [
    {
     "data": {
      "text/plain": [
       "0"
      ]
     },
     "execution_count": 23,
     "metadata": {},
     "output_type": "execute_result"
    }
   ],
   "source": [
    "a=np.random.randint(low=0,high=200,size=(10,10))\n",
    "np.min(a)"
   ]
  },
  {
   "cell_type": "code",
   "execution_count": 24,
   "id": "f6699c85",
   "metadata": {},
   "outputs": [
    {
     "data": {
      "text/plain": [
       "199"
      ]
     },
     "execution_count": 24,
     "metadata": {},
     "output_type": "execute_result"
    }
   ],
   "source": [
    "b=np.random.randint(low=0,high=200,size=(10,10))\n",
    "np.max(b)"
   ]
  },
  {
   "cell_type": "code",
   "execution_count": 25,
   "id": "6fad4668",
   "metadata": {},
   "outputs": [
    {
     "data": {
      "text/plain": [
       "14"
      ]
     },
     "execution_count": 25,
     "metadata": {},
     "output_type": "execute_result"
    }
   ],
   "source": [
    "#Find Dot product of two arrays\n",
    "\n",
    "f = np.array([1,2])\n",
    "\n",
    "g = np.array([4,5])\n",
    "np.dot(f,g)"
   ]
  },
  {
   "cell_type": "code",
   "execution_count": 28,
   "id": "de930d94",
   "metadata": {},
   "outputs": [],
   "source": [
    "#Concatenate following arrays along axis=0\n",
    "\n",
    "x=np.array([[1,2],[3,4]])\n",
    "\n",
    "y=np.array([[5,6]])"
   ]
  },
  {
   "cell_type": "code",
   "execution_count": 29,
   "id": "dd86e835",
   "metadata": {},
   "outputs": [
    {
     "data": {
      "text/plain": [
       "array([[1, 2],\n",
       "       [3, 4],\n",
       "       [5, 6]])"
      ]
     },
     "execution_count": 29,
     "metadata": {},
     "output_type": "execute_result"
    }
   ],
   "source": [
    "np.concatenate((x,y),axis=0)"
   ]
  },
  {
   "cell_type": "code",
   "execution_count": null,
   "id": "acc0882b",
   "metadata": {},
   "outputs": [],
   "source": [
    "#How to get the common items between two python numpy arrays?\n",
    "\n",
    "a = np.array([1,2,3,2,3,4,3,4,5,6])\n",
    "\n",
    "b = np.array([7,2,10,2,7,4,9,4,9,8])"
   ]
  },
  {
   "cell_type": "code",
   "execution_count": 44,
   "id": "6f1bb13a",
   "metadata": {},
   "outputs": [
    {
     "name": "stdout",
     "output_type": "stream",
     "text": [
      "[  0   8  11  12  16  28  63  72  89 100 105 109 118 127 129 134 146 151\n",
      " 163 174 176 184 195 199]\n"
     ]
    }
   ],
   "source": [
    "print(np.intersect1d(a,b))"
   ]
  },
  {
   "cell_type": "code",
   "execution_count": 49,
   "id": "b81d87c0",
   "metadata": {},
   "outputs": [
    {
     "data": {
      "text/plain": [
       "array([ 1,  2,  3,  4,  5,  7,  8, 10])"
      ]
     },
     "execution_count": 49,
     "metadata": {},
     "output_type": "execute_result"
    }
   ],
   "source": [
    "#Sort the numpy array:\n",
    "\n",
    "arr = np.array([10,5,8,4,7,2,3,1])\n",
    "np.sort(arr)"
   ]
  },
  {
   "cell_type": "code",
   "execution_count": null,
   "id": "7413eedc",
   "metadata": {},
   "outputs": [],
   "source": []
  }
 ],
 "metadata": {
  "kernelspec": {
   "display_name": "Python 3 (ipykernel)",
   "language": "python",
   "name": "python3"
  },
  "language_info": {
   "codemirror_mode": {
    "name": "ipython",
    "version": 3
   },
   "file_extension": ".py",
   "mimetype": "text/x-python",
   "name": "python",
   "nbconvert_exporter": "python",
   "pygments_lexer": "ipython3",
   "version": "3.9.7"
  }
 },
 "nbformat": 4,
 "nbformat_minor": 5
}
